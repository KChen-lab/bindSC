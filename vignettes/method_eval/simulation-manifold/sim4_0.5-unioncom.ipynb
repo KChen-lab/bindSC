{
 "cells": [
  {
   "cell_type": "code",
   "execution_count": 1,
   "metadata": {},
   "outputs": [],
   "source": [
    "from pamona import Pamona\n",
    "import numpy as np\n",
    "import pamona\n",
    "\n",
    "from unioncom import UnionCom"
   ]
  },
  {
   "cell_type": "code",
   "execution_count": 12,
   "metadata": {},
   "outputs": [],
   "source": [
    "import pandas as pd\n",
    "from sklearn.preprocessing import LabelEncoder"
   ]
  },
  {
   "cell_type": "code",
   "execution_count": 1,
   "metadata": {},
   "outputs": [],
   "source": [
    "import os\n",
    "os.environ['R_HOME'] = '/risapps/rhel7/R/3.6.0/lib64/R' #path to your R installation\n",
    "os.environ['R_LIBS_USER'] = \"/rsrch3/home/bcb/sliang3/R/x86_64-pc-linux-gnu-library/3.6:/risapps/rhel7/R/3.6.0/lib64/R/library\"\n",
    "import rpy2\n",
    "%load_ext rpy2.ipython"
   ]
  },
  {
   "cell_type": "code",
   "execution_count": null,
   "metadata": {},
   "outputs": [],
   "source": [
    "suffix = '0.5'\n",
    "file_name = 'Ncell2000_PopSize_nGene500_nPeak1500_w' + suffix + '.RDS'"
   ]
  },
  {
   "cell_type": "code",
   "execution_count": 2,
   "metadata": {},
   "outputs": [],
   "source": [
    "%%R -o rna -o atac -i file_name\n",
    "data <- readRDS(file_name)\n",
    "rna <- data$X\n",
    "atac <- data$Y"
   ]
  },
  {
   "cell_type": "code",
   "execution_count": 3,
   "metadata": {},
   "outputs": [
    {
     "name": "stdout",
     "output_type": "stream",
     "text": [
      "[1]  500 3000\n",
      "\n",
      "[1] 1000  800\n",
      "\n"
     ]
    }
   ],
   "source": [
    "print(rna.dim)\n",
    "print(atac.dim)"
   ]
  },
  {
   "cell_type": "code",
   "execution_count": null,
   "metadata": {},
   "outputs": [],
   "source": []
  },
  {
   "cell_type": "code",
   "execution_count": 6,
   "metadata": {},
   "outputs": [],
   "source": [
    "#random_index = np.random.choice(30672, 5000, False)\n",
    "\n",
    "data1 = np.array(rna).T #[random_index, :]\n",
    "data2 = np.array(atac).T #[random_index, :]\n",
    "\n",
    "shuffle = np.arange(data2.shape[0])\n",
    "np.random.shuffle(shuffle)\n",
    "shuffle_back = np.argsort(shuffle)\n",
    "\n",
    "data2 = data2[shuffle, :]"
   ]
  },
  {
   "cell_type": "code",
   "execution_count": 7,
   "metadata": {},
   "outputs": [],
   "source": [
    "from sklearn.decomposition import PCA\n",
    "\n",
    "##type1 = LabelEncoder().fit_transform(meta['celltype1'])#[random_index]\n",
    "##type2 = LabelEncoder().fit_transform(meta['celltype1'])#[random_index]\n",
    "\n",
    "data1 = pamona.utils.zscore_standardize(np.asarray(data1))\n",
    "data1 = PCA(30).fit_transform(data1)\n",
    "data1 = pamona.utils.zscore_standardize(data1)\n",
    "\n",
    "data2 = pamona.utils.zscore_standardize(np.asarray(data2))\n",
    "data2 = PCA(30).fit_transform(data2)\n",
    "data2 = pamona.utils.zscore_standardize(np.asarray(data2))\n",
    "\n",
    "data = [data1,data2]\n",
    "#datatype = [type1,type2]"
   ]
  },
  {
   "cell_type": "code",
   "execution_count": 9,
   "metadata": {},
   "outputs": [],
   "source": [
    "## incorporate prior information\n",
    "#M = []\n",
    "#n_datasets = len(data)\n",
    "#for k in range(n_datasets-1):\n",
    "#    M.append(np.ones((len(data[k]), len(data[-1]))))\n",
    "#    for i in range(len(data[k])):\n",
    "#        for j in range(len(data[-1])):\n",
    "#            if datatype[k][i] == datatype[-1][j]:\n",
    "#                M[k][i][j] = 0.5"
   ]
  },
  {
   "cell_type": "code",
   "execution_count": 10,
   "metadata": {},
   "outputs": [
    {
     "data": {
      "text/plain": [
       "           used  (Mb) gc trigger   (Mb)  max used  (Mb)\n",
       "Ncells  1371679  73.3    2548180  136.1   2548180 136.1\n",
       "Vcells 95388134 727.8  155101335 1183.4 106729686 814.3\n"
      ]
     },
     "metadata": {},
     "output_type": "display_data"
    }
   ],
   "source": [
    "%%R\n",
    "\n",
    "rm(data)\n",
    "gc()"
   ]
  },
  {
   "cell_type": "code",
   "execution_count": null,
   "metadata": {},
   "outputs": [
    {
     "name": "stdout",
     "output_type": "stream",
     "text": [
      "Pamona start!\n",
      "use random seed: 666\n"
     ]
    }
   ],
   "source": [
    "uc = UnionCom.UnionCom()\n",
    "integrated_data = uc.fit_transform(dataset=[data1,data2])"
   ]
  },
  {
   "cell_type": "code",
   "execution_count": null,
   "metadata": {},
   "outputs": [],
   "source": [
    "embedding = pd.DataFrame(integrated_data[0],\n",
    "                         columns=['X_' + str(i) for i in range(integrated_data[0].shape[1])])\n",
    "embedding.to_csv(\"output/sim4-\" + suffix + \"-unioncom-rna.csv\")\n",
    "\n",
    "embedding = pd.DataFrame(integrated_data[1][shuffle_back, :],\n",
    "                         columns=['Y_' + str(i) for i in range(integrated_data[1].shape[1])])\n",
    "embedding.to_csv(\"output/sim4-\" + suffix + \"-unioncom-atac.csv\")"
   ]
  },
  {
   "cell_type": "code",
   "execution_count": null,
   "metadata": {},
   "outputs": [],
   "source": [
    "uc.Visualize([data1,data2], integrated_data, mode='PCA')"
   ]
  }
 ],
 "metadata": {
  "kernelspec": {
   "display_name": "Python 3",
   "language": "python",
   "name": "python3"
  },
  "language_info": {
   "codemirror_mode": {
    "name": "ipython",
    "version": 3
   },
   "file_extension": ".py",
   "mimetype": "text/x-python",
   "name": "python",
   "nbconvert_exporter": "python",
   "pygments_lexer": "ipython3",
   "version": "3.7.7"
  }
 },
 "nbformat": 4,
 "nbformat_minor": 4
}
