{
 "cells": [
  {
   "cell_type": "code",
   "execution_count": 1,
   "metadata": {},
   "outputs": [],
   "source": [
    "from pamona import Pamona\n",
    "import numpy as np\n",
    "import pamona"
   ]
  },
  {
   "cell_type": "code",
   "execution_count": 2,
   "metadata": {},
   "outputs": [],
   "source": [
    "import pandas as pd\n",
    "from sklearn.preprocessing import LabelEncoder"
   ]
  },
  {
   "cell_type": "code",
   "execution_count": 3,
   "metadata": {},
   "outputs": [],
   "source": [
    "import sys\n",
    "sys.path.insert(1, '2019_mmd_wabi')\n",
    "import manifoldAlignDistortionPen_mmd_multipleStarts as mmdma"
   ]
  },
  {
   "cell_type": "code",
   "execution_count": 1,
   "metadata": {},
   "outputs": [],
   "source": [
    "import os\n",
    "os.environ['R_HOME'] = '/risapps/rhel7/R/3.6.0/lib64/R' #path to your R installation\n",
    "os.environ['R_LIBS_USER'] = \"/rsrch3/home/bcb/sliang3/R/x86_64-pc-linux-gnu-library/3.6:/risapps/rhel7/R/3.6.0/lib64/R/library\"\n",
    "import rpy2\n",
    "%load_ext rpy2.ipython"
   ]
  },
  {
   "cell_type": "code",
   "execution_count": null,
   "metadata": {},
   "outputs": [],
   "source": [
    "suffix = '0.7'\n",
    "file_name = 'Ncell2000_PopSize_nGene500_nPeak1500_w' + suffix + '.RDS'"
   ]
  },
  {
   "cell_type": "code",
   "execution_count": 2,
   "metadata": {},
   "outputs": [],
   "source": [
    "%%R -o rna -o atac -i file_name\n",
    "data <- readRDS(file_name)\n",
    "rna <- data$X\n",
    "atac <- data$Y"
   ]
  },
  {
   "cell_type": "code",
   "execution_count": 3,
   "metadata": {},
   "outputs": [
    {
     "name": "stdout",
     "output_type": "stream",
     "text": [
      "[1]  500 2000\n",
      "\n",
      "[1] 1500 2000\n",
      "\n"
     ]
    }
   ],
   "source": [
    "print(rna.dim)\n",
    "print(atac.dim)"
   ]
  },
  {
   "cell_type": "code",
   "execution_count": 7,
   "metadata": {},
   "outputs": [],
   "source": [
    "#random_index = np.random.choice(30672, 5000, False)\n",
    "\n",
    "data1 = np.array(rna).T #[random_index, :]\n",
    "data2 = np.array(atac).T #[random_index, :]\n",
    "\n",
    "shuffle = np.arange(data2.shape[0])\n",
    "np.random.shuffle(shuffle)\n",
    "shuffle_back = np.argsort(shuffle)\n",
    "\n",
    "data2 = data2[shuffle, :]"
   ]
  },
  {
   "cell_type": "code",
   "execution_count": 8,
   "metadata": {},
   "outputs": [],
   "source": [
    "from sklearn.decomposition import PCA\n",
    "\n",
    "##type1 = LabelEncoder().fit_transform(meta['celltype1'])#[random_index]\n",
    "##type2 = LabelEncoder().fit_transform(meta['celltype1'])#[random_index]\n",
    "\n",
    "data1 = pamona.utils.zscore_standardize(np.asarray(data1))\n",
    "data1 = PCA(30).fit_transform(data1)\n",
    "#data1 = pamona.utils.zscore_standardize(data1)\n",
    "\n",
    "data2 = pamona.utils.zscore_standardize(np.asarray(data2))\n",
    "data2 = PCA(30).fit_transform(data2)\n",
    "#data2 = pamona.utils.zscore_standardize(np.asarray(data2))\n",
    "\n",
    "data = [data1,data2]\n",
    "#datatype = [type1,type2]"
   ]
  },
  {
   "cell_type": "code",
   "execution_count": 9,
   "metadata": {},
   "outputs": [
    {
     "data": {
      "text/plain": [
       "          used (Mb) gc trigger (Mb) max used (Mb)\n",
       "Ncells  297252 15.9     641825 34.3   514015 27.5\n",
       "Vcells 2903873 22.2    8388608 64.0  4919946 37.6\n"
      ]
     },
     "metadata": {},
     "output_type": "display_data"
    }
   ],
   "source": [
    "%%R\n",
    "\n",
    "rm(data)\n",
    "gc()"
   ]
  },
  {
   "cell_type": "code",
   "execution_count": 10,
   "metadata": {},
   "outputs": [
    {
     "data": {
      "text/plain": [
       "(3000, 30)"
      ]
     },
     "execution_count": 10,
     "metadata": {},
     "output_type": "execute_result"
    }
   ],
   "source": [
    "data1.shape"
   ]
  },
  {
   "cell_type": "code",
   "execution_count": 11,
   "metadata": {},
   "outputs": [
    {
     "data": {
      "text/plain": [
       "(800, 30)"
      ]
     },
     "execution_count": 11,
     "metadata": {},
     "output_type": "execute_result"
    }
   ],
   "source": [
    "data2.shape"
   ]
  },
  {
   "cell_type": "code",
   "execution_count": null,
   "metadata": {},
   "outputs": [],
   "source": [
    "from scipy.spatial.distance import pdist, squareform\n",
    "k1 = squareform(pdist(data1))\n",
    "k2 = squareform(pdist(data2))\n",
    "\n",
    "integrated_data = mmdma.mmd_ma(k1, k2, max_iter=25001)"
   ]
  },
  {
   "cell_type": "code",
   "execution_count": null,
   "metadata": {},
   "outputs": [],
   "source": [
    "embedding = pd.DataFrame(integrated_data[0],\n",
    "                         columns=['X_' + str(i) for i in range(integrated_data[0].shape[1])])\n",
    "embedding.to_csv(\"output/sim4-\" + suffix + \"-mmdma-rna.csv\")\n",
    "\n",
    "embedding = pd.DataFrame(integrated_data[1][shuffle_back, :],\n",
    "                         columns=['Y_' + str(i) for i in range(integrated_data[1].shape[1])])\n",
    "embedding.to_csv(\"output/sim4-\" + suffix + \"-mmdma-atac.csv\")"
   ]
  }
 ],
 "metadata": {
  "kernelspec": {
   "display_name": "Python 3",
   "language": "python",
   "name": "python3"
  },
  "language_info": {
   "codemirror_mode": {
    "name": "ipython",
    "version": 3
   },
   "file_extension": ".py",
   "mimetype": "text/x-python",
   "name": "python",
   "nbconvert_exporter": "python",
   "pygments_lexer": "ipython3",
   "version": "3.7.7"
  }
 },
 "nbformat": 4,
 "nbformat_minor": 4
}
